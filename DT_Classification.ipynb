{
 "cells": [
  {
   "cell_type": "markdown",
   "id": "756b91ea",
   "metadata": {},
   "source": [
    "## Decision Trees for Classification"
   ]
  },
  {
   "cell_type": "markdown",
   "id": "853bfe20",
   "metadata": {},
   "source": [
    "In this notebook, we'll use a **Decision Tree Classifier** to predict penguin species based on physical characteristics using the **Palmer Penguins** dataset.\n",
    "\n",
    "We are using... as input features and Penguin Species as the target feature."
   ]
  },
  {
   "cell_type": "markdown",
   "id": "e177f53c",
   "metadata": {},
   "source": [
    "### 1. Imports and Setup"
   ]
  },
  {
   "cell_type": "code",
   "execution_count": 3,
   "id": "808be4b8",
   "metadata": {},
   "outputs": [
    {
     "name": "stderr",
     "output_type": "stream",
     "text": [
      "/Users/sg2147/Documents/SummerSchool_DT/DecisionTrees_SummerSchool25/venv/lib/python3.12/site-packages/palmerpenguins/penguins.py:2: UserWarning: pkg_resources is deprecated as an API. See https://setuptools.pypa.io/en/latest/pkg_resources.html. The pkg_resources package is slated for removal as early as 2025-11-30. Refrain from using this package or pin to Setuptools<81.\n",
      "  import pkg_resources\n"
     ]
    }
   ],
   "source": [
    "from palmerpenguins import load_penguins\n",
    "from sklearn import preprocessing\n",
    "from sklearn.ensemble import RandomForestClassifier\n",
    "from sklearn import metrics\n",
    "from sklearn.model_selection import train_test_split"
   ]
  },
  {
   "cell_type": "markdown",
   "id": "747142f5",
   "metadata": {},
   "source": [
    "### 2. Load and Inspect Data"
   ]
  },
  {
   "cell_type": "code",
   "execution_count": null,
   "id": "66ea7d6c",
   "metadata": {},
   "outputs": [],
   "source": [
    "# Load dataset and drop any nan records\n",
    "penguins = load_penguins().dropna()\n",
    "\n",
    "# Preprocess the data\n",
    "le = preprocessing.LabelEncoder()\n",
    "\n",
    "# Apply encoding to the categorical data\n",
    "penguins['encoded'] = le.fit_transform(penguins['species'])"
   ]
  },
  {
   "cell_type": "code",
   "execution_count": null,
   "id": "fb36612f",
   "metadata": {},
   "outputs": [],
   "source": [
    "colours = {'Adelie':'#8966a3','Chinstrap':'#dba162','Gentoo':'#4e7e82',}"
   ]
  },
  {
   "cell_type": "code",
   "execution_count": null,
   "id": "ff23682f",
   "metadata": {},
   "outputs": [],
   "source": [
    "x = penguins[[\n",
    "            'bill_length_mm',\n",
    "            'bill_depth_mm',\n",
    "            # 'flipper_length_mm',\n",
    "            # 'body_mass_g'\n",
    "            ]\n",
    "             ].to_numpy()\n",
    "y = penguins['encoded'].to_numpy()"
   ]
  },
  {
   "cell_type": "code",
   "execution_count": null,
   "id": "1f5a3bd2",
   "metadata": {},
   "outputs": [],
   "source": [
    "x_train, x_test, y_train, y_test = train_test_split(x, y, test_size=0.4)"
   ]
  },
  {
   "cell_type": "code",
   "execution_count": null,
   "id": "cb85787d",
   "metadata": {},
   "outputs": [],
   "source": [
    "for species in list(colours.keys()):\n",
    "    mask = penguins[penguins['species'] == species]\n",
    "    plt.scatter(mask['bill_length_mm'], mask['bill_depth_mm'],\n",
    "                c=colours[species], s=64, label=species)"
   ]
  },
  {
   "cell_type": "code",
   "execution_count": null,
   "id": "abe0d27a",
   "metadata": {},
   "outputs": [],
   "source": []
  },
  {
   "cell_type": "code",
   "execution_count": null,
   "id": "76e2ef5f",
   "metadata": {},
   "outputs": [],
   "source": []
  },
  {
   "cell_type": "markdown",
   "id": "bfe46aef",
   "metadata": {},
   "source": [
    "## Load and Train Decision Tree for Classification"
   ]
  },
  {
   "cell_type": "markdown",
   "id": "6aa2c3e8",
   "metadata": {},
   "source": [
    "## Visualise the Decision Tree"
   ]
  },
  {
   "cell_type": "code",
   "execution_count": null,
   "id": "fc1692ee",
   "metadata": {},
   "outputs": [],
   "source": []
  }
 ],
 "metadata": {
  "kernelspec": {
   "display_name": "venv",
   "language": "python",
   "name": "python3"
  },
  "language_info": {
   "codemirror_mode": {
    "name": "ipython",
    "version": 3
   },
   "file_extension": ".py",
   "mimetype": "text/x-python",
   "name": "python",
   "nbconvert_exporter": "python",
   "pygments_lexer": "ipython3",
   "version": "3.12.5"
  }
 },
 "nbformat": 4,
 "nbformat_minor": 5
}
