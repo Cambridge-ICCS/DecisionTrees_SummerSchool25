{
 "cells": [
  {
   "cell_type": "markdown",
   "id": "756b91ea",
   "metadata": {},
   "source": [
    "## Random Forests for Classification"
   ]
  },
  {
   "cell_type": "markdown",
   "id": "853bfe20",
   "metadata": {},
   "source": [
    "In this notebook, we'll use a **Random Forest Classifier** to predict penguin species based on physical characteristics using the **Palmer Penguins** dataset.\n",
    "\n",
    "We are using physical features of penguins as input features and Penguin Species as the target feature.\n",
    "\n",
    "`bill_length` - length of the beak\n",
    "\n",
    "`bill_depth` - depth of the beak\n",
    "\n",
    "`flipper_length_mm` - length of the penguin’s flipper in millimeters\n",
    "\n",
    "`body_mass_g` - weight of the penguin in grams"
   ]
  },
  {
   "cell_type": "markdown",
   "id": "e177f53c",
   "metadata": {},
   "source": [
    "### 1. Import Required Libraries"
   ]
  },
  {
   "cell_type": "code",
   "execution_count": null,
   "id": "808be4b8",
   "metadata": {},
   "outputs": [],
   "source": [
    "from palmerpenguins import load_penguins\n",
    "from sklearn import preprocessing\n",
    "from sklearn.ensemble import RandomForestClassifier\n",
    "from sklearn import metrics\n",
    "from sklearn.model_selection import train_test_split\n",
    "import matplotlib.pyplot as plt \n",
    "from matplotlib.colors import ListedColormap\n",
    "import numpy as np\n",
    "from sklearn.tree import  plot_tree\n"
   ]
  },
  {
   "cell_type": "markdown",
   "id": "747142f5",
   "metadata": {},
   "source": [
    "### 2. Load and Preprocess the Palmer Penguins Dataset"
   ]
  },
  {
   "cell_type": "code",
   "execution_count": null,
   "id": "66ea7d6c",
   "metadata": {},
   "outputs": [],
   "source": [
    "# Load dataset and drop any nan records\n",
    "penguins = load_penguins().dropna()\n",
    "\n",
    "# Preprocess the data\n",
    "le = preprocessing.LabelEncoder()\n",
    "\n",
    "# Apply encoding to the categorical data\n",
    "penguins['encoded'] = le.fit_transform(penguins['species'])\n",
    "\n",
    "# Color map for each species\n",
    "colours = {'Adelie':'#8966a3','Chinstrap':'#dba162','Gentoo':'#4e7e82',}"
   ]
  },
  {
   "cell_type": "markdown",
   "id": "89d63a33",
   "metadata": {},
   "source": [
    "### 3. Feature Selection and Train-Test Split"
   ]
  },
  {
   "cell_type": "code",
   "execution_count": null,
   "id": "ff23682f",
   "metadata": {},
   "outputs": [],
   "source": [
    "\n",
    "features = [\n",
    "            'bill_length_mm',\n",
    "            'bill_depth_mm',\n",
    "            'flipper_length_mm',\n",
    "            'body_mass_g'\n",
    "            ]\n",
    "var_0 = features[0]\n",
    "var_1 = features[1]\n",
    "var_2 = features[2]\n",
    "var_3 = features[3]\n",
    "class_names = ['Adelie', 'Chinstrap' ,'Gentoo']\n",
    "\n",
    "x = penguins[features].to_numpy()\n",
    "y = penguins['encoded'].to_numpy()\n",
    "\n",
    "x_train, x_test, y_train, y_test = train_test_split(x, y, test_size=0.4)"
   ]
  },
  {
   "cell_type": "markdown",
   "id": "31aa37fb",
   "metadata": {},
   "source": [
    "### 4. Visualize Feature Relationships"
   ]
  },
  {
   "cell_type": "markdown",
   "id": "1b111804",
   "metadata": {},
   "source": [
    "#### a. Bill Length vs. Bill Depth (used for training)"
   ]
  },
  {
   "cell_type": "code",
   "execution_count": null,
   "id": "cb85787d",
   "metadata": {},
   "outputs": [],
   "source": [
    "for species in list(colours.keys()):\n",
    "    mask = penguins[penguins['species'] == species]\n",
    "    plt.scatter(mask[var_0], mask[var_1],\n",
    "                c=colours[species], s=64, label=species)\n",
    "plt.xlabel('Bill Length (mm)')\n",
    "plt.ylabel('Bill Depth (mm)')\n",
    "plt.axis('tight')\n",
    "plt.legend()\n",
    "plt.title('Bill Length vs. Bill Depth')\n",
    "plt.show()\n"
   ]
  },
  {
   "cell_type": "markdown",
   "id": "fca45859",
   "metadata": {},
   "source": [
    "#### b. Flipper Length vs. Body Mass (not used for training here)"
   ]
  },
  {
   "cell_type": "code",
   "execution_count": null,
   "id": "abe0d27a",
   "metadata": {},
   "outputs": [],
   "source": [
    "for species in list(colours.keys()):\n",
    "    mask = penguins[penguins['species'] == species]\n",
    "    plt.scatter(mask[var_2], mask[var_3],\n",
    "                c=colours[species], s=64, label=species)\n",
    "plt.xlabel('Flipper Length (mm)')\n",
    "plt.ylabel('Body Mass (g)')\n",
    "plt.axis('tight')\n",
    "plt.legend()\n",
    "plt.title('Flipper Length vs. Body Mass')\n",
    "plt.show()\n",
    " "
   ]
  },
  {
   "cell_type": "markdown",
   "id": "bfe46aef",
   "metadata": {},
   "source": [
    "### 5. Train a Random Forest Classifier\n",
    "Our forest has 6 Decision Trees."
   ]
  },
  {
   "cell_type": "code",
   "execution_count": null,
   "id": "fc1692ee",
   "metadata": {},
   "outputs": [],
   "source": [
    "clf=RandomForestClassifier(n_estimators=6, max_depth=2, bootstrap=False)\n",
    "clf.fit(x_train,y_train)"
   ]
  },
  {
   "cell_type": "markdown",
   "id": "d5235ce5",
   "metadata": {},
   "source": [
    "### 6. Visualise the random forest for *Explainability*\n"
   ]
  },
  {
   "cell_type": "code",
   "execution_count": null,
   "id": "ff602219",
   "metadata": {},
   "outputs": [],
   "source": [
    "for i, tree in enumerate(clf.estimators_): #Estimators are basically number of trees in your forest\n",
    "    plt.figure(figsize=(8, 4))  \n",
    "    plot_tree(tree, \n",
    "              feature_names=features,\n",
    "              class_names=class_names,\n",
    "              filled=True,\n",
    "              rounded=True)\n",
    "    plt.title(f\"Decision Tree {i+1} from Random Forest\")\n",
    "    plt.tight_layout()\n",
    "    plt.show()\n"
   ]
  },
  {
   "cell_type": "markdown",
   "id": "0078832b",
   "metadata": {},
   "source": [
    "Note: The splitting criteria here is Gini Index that computes the probability of a datapoint being classfied incorrectly. The value lies b/w 0 and 1."
   ]
  },
  {
   "cell_type": "markdown",
   "id": "2ca75ff3",
   "metadata": {},
   "source": [
    "### 7. Visualise the Feature importance"
   ]
  },
  {
   "cell_type": "code",
   "execution_count": null,
   "id": "88e17a6e",
   "metadata": {},
   "outputs": [],
   "source": [
    "fig, axes = plt.subplots(2, 3, figsize=(15, 8))  \n",
    "axes = axes.flatten()  \n",
    "\n",
    "for i, tree in enumerate(clf.estimators_):\n",
    "    importances = clf.feature_importances_\n",
    "    indices = np.argsort(importances)\n",
    "    \n",
    "    ax = axes[i]\n",
    "    ax.barh(range(len(indices)), importances[indices], align='center')\n",
    "    ax.set_yticks(range(len(indices)))\n",
    "    ax.set_yticklabels([features[j] for j in indices])\n",
    "    ax.set_xlabel(\"Importance\")\n",
    "    ax.set_title(f\"Tree {i+1}\")\n",
    "\n",
    "plt.tight_layout()\n",
    "plt.suptitle(\"Feature Importances of Trees in Random Forest\", fontsize=16, y=1.03)\n",
    "plt.show()"
   ]
  },
  {
   "cell_type": "markdown",
   "id": "bbd7f601",
   "metadata": {},
   "source": [
    "### 8. Evaluate the Model"
   ]
  },
  {
   "cell_type": "code",
   "execution_count": null,
   "id": "5ded7116",
   "metadata": {},
   "outputs": [],
   "source": [
    "y_pred=clf.predict(x_test)\n",
    "print(\"Accuracy:\",metrics.accuracy_score(y_test, y_pred))"
   ]
  },
  {
   "cell_type": "markdown",
   "id": "10c8ec54",
   "metadata": {},
   "source": [
    "###  9. Visualise the Boundaries"
   ]
  },
  {
   "cell_type": "code",
   "execution_count": null,
   "id": "d8958eae",
   "metadata": {},
   "outputs": [],
   "source": [
    "# Create a mesh grid based on feature space\n",
    "x1_min, x1_max = penguins[var_0].min() - 0.1, penguins[var_0].max() + 0.1 \n",
    "x2_min, x2_max = penguins[var_1].min() - 0.1, penguins[var_1].max() + 0.1 \n",
    "x3_mean = penguins[var_2].mean() \n",
    "x4_mean = penguins[var_3].mean() \n",
    "xx1, xx2 = np.meshgrid(np.linspace(x1_min, x1_max, 200), \n",
    "np.linspace(x2_min, x2_max, 200)) \n",
    "grid_points = np.c_[xx1.ravel(), xx2.ravel(), \n",
    "np.full(xx1.ravel().shape, x3_mean), \n",
    "np.full(xx2.ravel().shape, x4_mean)] \n",
    "\n",
    "# Predict over mesh grid\n",
    "Z = clf.predict(grid_points) \n",
    "Z = Z.reshape(xx1.shape) \n",
    "\n",
    "# Plot decision regions\n",
    "colour_map = ListedColormap(list(colours.values()))\n",
    "plt.pcolormesh(xx1, xx2, Z, cmap = colour_map, alpha=0.5, shading='auto') \n",
    "\n",
    "# Plot training points\n",
    "for species in list(colours.keys()):\n",
    "    mask = penguins[penguins['species'] == species]\n",
    "    plt.scatter(mask[var_0], mask[var_1],\n",
    "                c=colours[species], s=64, label=species)\n",
    "\n",
    "plt.xlabel('Bill Length (mm)')\n",
    "plt.ylabel('Bill Depth (mm)')\n",
    "plt.axis('tight')\n",
    "plt.legend()\n",
    "plt.title('Decision Boundary of Random Forest Classifier')\n",
    "plt.show()\n"
   ]
  }
 ],
 "metadata": {
  "kernelspec": {
   "display_name": "venv",
   "language": "python",
   "name": "python3"
  },
  "language_info": {
   "codemirror_mode": {
    "name": "ipython",
    "version": 3
   },
   "file_extension": ".py",
   "mimetype": "text/x-python",
   "name": "python",
   "nbconvert_exporter": "python",
   "pygments_lexer": "ipython3",
   "version": "3.12.5"
  }
 },
 "nbformat": 4,
 "nbformat_minor": 5
}
