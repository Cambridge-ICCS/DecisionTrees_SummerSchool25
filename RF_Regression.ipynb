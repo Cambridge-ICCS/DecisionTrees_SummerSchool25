{
 "cells": [
  {
   "cell_type": "markdown",
   "id": "756b91ea",
   "metadata": {},
   "source": [
    "## Random Forest for Regression\n"
   ]
  },
  {
   "cell_type": "markdown",
   "id": "853bfe20",
   "metadata": {},
   "source": [
    "In this notebook, we will explore Random Forest algorithm for solving a regression task. The goal is to create a model that predicts the value of a target variable by learning simple decision rules inferred from data features.\n",
    "\n",
    "We are using randomly generated data for training and testing purpose."
   ]
  },
  {
   "cell_type": "markdown",
   "id": "e177f53c",
   "metadata": {},
   "source": [
    "### 1. Import Required Libraries"
   ]
  },
  {
   "cell_type": "code",
   "execution_count": null,
   "id": "808be4b8",
   "metadata": {},
   "outputs": [],
   "source": [
    "import numpy as np\n",
    "import sklearn as sk\n",
    "from sklearn.ensemble import RandomForestRegressor\n",
    "from sklearn.metrics import r2_score\n",
    "import matplotlib.pyplot as plt\n",
    "import matplotlib.font_manager as fm"
   ]
  },
  {
   "cell_type": "markdown",
   "id": "747142f5",
   "metadata": {},
   "source": [
    "### 2. Generate Synthetic Cubic Data"
   ]
  },
  {
   "cell_type": "code",
   "execution_count": null,
   "id": "66ea7d6c",
   "metadata": {},
   "outputs": [],
   "source": [
    "# Generate x values from -3.2 to 3.2\n",
    "x = np.linspace(-???, ???, 50)\n",
    "\n",
    "# Define cubic function for y\n",
    "y = 1.28 * x**??? - 6.4 * x + 1\n",
    "\n",
    "# Plot the original function\n",
    "plt.plot(x, y)\n",
    "plt.title('True Function')\n",
    "plt.xlabel('x')\n",
    "plt.ylabel('y')\n",
    "plt.grid(True)\n",
    "plt.show()\n"
   ]
  },
  {
   "cell_type": "markdown",
   "id": "bfe46aef",
   "metadata": {},
   "source": [
    "### 3. Train a Random Forest Regressor"
   ]
  },
  {
   "cell_type": "code",
   "execution_count": null,
   "id": "b74b4189",
   "metadata": {},
   "outputs": [],
   "source": [
    "# Instantiate and train the regressor\n",
    "regressor = RandomForestRegressor(\n",
    "    n_estimators= ???,\n",
    "    max_depth= ???,\n",
    "    oob_score=True  # Optional: enables out-of-bag scoring\n",
    ")\n",
    "\n",
    "regressor.fit(x.reshape(-1, 1), y)"
   ]
  },
  {
   "cell_type": "markdown",
   "id": "854b10fc",
   "metadata": {},
   "source": [
    "### 4. Predict on a Test Grid and Evaluate its Performance"
   ]
  },
  {
   "cell_type": "code",
   "execution_count": null,
   "id": "5263a2ac",
   "metadata": {},
   "outputs": [],
   "source": [
    "# Create test points and predict\n",
    "x_test = np.linspace(-2.56, 2.56, 100)\n",
    "y_pred = regressor.predict(x_test.reshape(-1, 1))\n",
    "\n",
    "# Ground truth for comparison\n",
    "y_obs = 1.28 * x_test**3 - 6.4 * x_test + 1\n"
    "print(r2_score(y_obs, y_pred))"
   ]
  },
  {
   "cell_type": "markdown",
   "id": "6aa2c3e8",
   "metadata": {},
   "source": [
    "### 5. Visualize Predictions vs. Ground Truth"
   ]
  },
  {
   "cell_type": "code",
   "execution_count": null,
   "id": "904e7c9d",
   "metadata": {},
   "outputs": [],
   "source": [
    "# Plot predictions and observations\n",
    "fig, ax = plt.subplots(figsize=(10, 10))\n",
    "ax.set_xlabel('x')\n",
    "ax.set_ylabel('y')\n",
    "ax.set_xlim([-3.2, 3.2])\n",
    "ax.set_ylim([-100, 100])\n",
    "\n",
    "# Plot the original function (ground truth)\n",
    "ax.plot(x_test, y_obs, lw=4, color='#dba162', label='Observations')\n",
    "\n",
    "# Plot the predicted values\n",
    "ax.plot(x_test, y_pred, lw=4, color='#4e7e82', label='Predictions')\n",
    "\n",
    "plt.legend(loc=\"upper left\")\n",
    "plt.title(\"Random Forest Regression\")\n",
    "plt.grid(True)\n",
    "plt.show()\n"
   ]
  },
  {
   "cell_type": "code",
   "execution_count": null,
   "id": "fc1692ee",
   "metadata": {},
   "outputs": [],
   "source": []
  }
 ],
 "metadata": {
  "kernelspec": {
   "display_name": "venv",
   "language": "python",
   "name": "python3"
  },
  "language_info": {
   "codemirror_mode": {
    "name": "ipython",
    "version": 3
   },
   "file_extension": ".py",
   "mimetype": "text/x-python",
   "name": "python",
   "nbconvert_exporter": "python",
   "pygments_lexer": "ipython3",
   "version": "3.12.5"
  }
 },
 "nbformat": 4,
 "nbformat_minor": 5
}
